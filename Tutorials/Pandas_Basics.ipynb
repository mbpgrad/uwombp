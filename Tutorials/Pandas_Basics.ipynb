{
 "cells": [
  {
   "cell_type": "markdown",
   "id": "f3a5fc6f-6b62-4188-aaf4-788fb82cbccb",
   "metadata": {
    "editable": true,
    "slideshow": {
     "slide_type": ""
    },
    "tags": []
   },
   "source": [
    "# Introduction to Pandas for Excel Files\n",
    "\n",
    "## 1. What is Pandas?\n",
    "\n",
    "Pandas is a Python library primarily used for data manipulation and analysis. It provides two main structures:\n",
    "- **Series**: 1D labeled data, like a list or array, but with an index.\n",
    "- **DataFrame**: 2D labeled data, like a table in a spreadsheet or a SQL table. It's the primary structure you will use for working with Excel data.\n",
    "\n",
    "## 2. Installing Pandas and Dependencies\n",
    "\n",
    "To use Pandas and read Excel files, you'll need to install both Pandas and **openpyxl** (a library for reading and writing Excel files).\n",
    "\n",
    "`pip install pandas openpyxl`"
   ]
  },
  {
   "cell_type": "code",
   "execution_count": null,
   "id": "786af6cf-c6c4-424e-9485-d652b9907a32",
   "metadata": {},
   "outputs": [],
   "source": [
    "pip install pandas openpyxl"
   ]
  },
  {
   "cell_type": "markdown",
   "id": "9544cacb-ce0e-48df-a069-a8a9ea821d81",
   "metadata": {},
   "source": [
    "## 3. Reading Excel Files with Pandas\n",
    "The `pandas.read_excel()` function is used to read an Excel file. This function loads the data into a **DataFrame**, which is the object type."
   ]
  },
  {
   "cell_type": "code",
   "execution_count": null,
   "id": "c21a6081-c1b5-40c4-b0a1-1f6d2f88a253",
   "metadata": {},
   "outputs": [],
   "source": [
    "import os\n",
    "import pandas as pd\n",
    "\n",
    "# Access the test Excel file path in our project directory\n",
    "current_directory = os.getcwd()\n",
    "parent_directory = os.path.dirname(current_directory)\n",
    "\n",
    "xls_name = r'data.xlsx'\n",
    "xls_fp = os.path.join(parent_directory, 'test_files', xls_name)\n",
    "\n",
    "print(xls_fp)"
   ]
  },
  {
   "cell_type": "code",
   "execution_count": null,
   "id": "d96392ae-6184-45b4-9259-782b4571a353",
   "metadata": {},
   "outputs": [],
   "source": [
    "# Read an Excel file into a DataFrame\n",
    "df = pd.read_excel(xls_fp)\n",
    "\n",
    "# Display the first few rows of the DataFrame\n",
    "print(df.head())"
   ]
  },
  {
   "cell_type": "markdown",
   "id": "71fc6d31-8a83-44cf-b07b-655c74b42270",
   "metadata": {},
   "source": [
    "## 4. Accessing Data in a DataFrame\n",
    "A **DataFrame** consists of rows and columns, and you can access data in a variety of ways.\n",
    "\n",
    "**Accessing Columns**:\n",
    "\n",
    "You can access a column using either dot notation or the bracket notation (recommended for more complex column names)."
   ]
  },
  {
   "cell_type": "code",
   "execution_count": null,
   "id": "fa3797c2-bf99-45a3-8764-c3fd47f4c518",
   "metadata": {},
   "outputs": [],
   "source": [
    "# Access a column (returns a Series)\n",
    "column_data = df['Name']\n",
    "\n",
    "# Alternatively (if column names don't have spaces or special characters):\n",
    "column_data = df.Name\n",
    "print(column_data)"
   ]
  },
  {
   "cell_type": "markdown",
   "id": "40babc89-8e4a-40ec-a3bb-49fa8c53cc19",
   "metadata": {},
   "source": [
    "**Accessing Rows**:\n",
    "\n",
    "To access rows, you can use `.iloc[]` or `.loc[]`.\n",
    "- **.iloc[]**: is used for integer-based indexing (like using NumPy arrays).\n",
    "- **.loc[]**: is used for label-based indexing (i.e., using the row index name)."
   ]
  },
  {
   "cell_type": "code",
   "execution_count": null,
   "id": "6a245128-9e71-44aa-8eb7-d37a655f25c8",
   "metadata": {
    "editable": true,
    "slideshow": {
     "slide_type": ""
    },
    "tags": []
   },
   "outputs": [],
   "source": [
    "# Access a row by index position (integer-based)\n",
    "row_data = df.iloc[0]  # First row\n",
    "\n",
    "# Access a specific value at a row and column\n",
    "value = df.iloc[0, 1]  # Row 0, Column 1\n",
    "\n",
    "# Access by label (if you know the index or column name)\n",
    "row_data = df.loc[0]  # First row if the index is 0\n",
    "value = df.loc[0, 'Name']  # Specific value\n",
    "\n",
    "print(row_data)\n",
    "print(value)"
   ]
  },
  {
   "cell_type": "markdown",
   "id": "d45c6c5d-d52c-4af3-b088-7582276e49bb",
   "metadata": {},
   "source": [
    "**Slicing DataFrames (similar to NumPy)**:\n",
    "\n",
    "You can also slice rows or columns using `iloc[]` or `loc[]` just like NumPy arrays using colons (`start:stop:step`):"
   ]
  },
  {
   "cell_type": "code",
   "execution_count": null,
   "id": "9c8ace09-c37b-43c2-b2d7-45757ef6c89e",
   "metadata": {},
   "outputs": [],
   "source": [
    "# Select multiple rows and columns (slicing)\n",
    "subset = df.iloc[1:5, 2:4]  # Selects data within Rows 1-4, Columns 2-3\n",
    "print(subset)"
   ]
  },
  {
   "cell_type": "markdown",
   "id": "5df0c293-d276-4a2b-b054-eeb1fdf5a247",
   "metadata": {},
   "source": [
    "## 5. Handling Excel Sheets and Multiple Sheets\n",
    "\n",
    "If the Excel file contains multiple sheets, you can specify the sheet to read using the `sheet_name` parameter."
   ]
  },
  {
   "cell_type": "code",
   "execution_count": null,
   "id": "6ab64bc2-0bc6-4d10-b1e8-562df07aedb5",
   "metadata": {},
   "outputs": [],
   "source": [
    "# Reading a specific sheet by name or index\n",
    "df = pd.read_excel(xls_fp, sheet_name='Sheet2')\n",
    "# or\n",
    "df = pd.read_excel(xls_fp, sheet_name=1)  # Second sheet\n",
    "\n",
    "print(df.head())"
   ]
  },
  {
   "cell_type": "markdown",
   "id": "69265e53-5eab-4253-a266-bf758f050430",
   "metadata": {},
   "source": [
    "To read all sheets into a dictionary of DataFrames:"
   ]
  },
  {
   "cell_type": "code",
   "execution_count": null,
   "id": "07555d6c-3fb6-467e-a645-040ffd44ba66",
   "metadata": {},
   "outputs": [],
   "source": [
    "dfs = pd.read_excel(xls_fp, sheet_name=None)\n",
    "# dfs will be a dictionary where keys are sheet names, and values are DataFrames\n",
    "\n",
    "for key in dfs:\n",
    "    print(key)\n",
    "    print(dfs[key])"
   ]
  },
  {
   "cell_type": "markdown",
   "id": "57b1c327-2119-4354-bae0-5ca92284188d",
   "metadata": {},
   "source": [
    "## 6. Basic Operations on DataFrames\n",
    "\n",
    "Once you have your data loaded into a DataFrame, you can perform basic operations like filtering, sorting, and summarizing data.\n",
    "\n",
    "**Filtering**:\n",
    "\n",
    "You can filter rows based on column values using conditions:"
   ]
  },
  {
   "cell_type": "code",
   "execution_count": null,
   "id": "89a9b023-b9ef-4a72-a243-da42413c35c4",
   "metadata": {},
   "outputs": [],
   "source": [
    "# Get rows where 'Age' column is greater than 4\n",
    "filtered_data = df[df['Age'] > 4]\n",
    "\n",
    "print(filtered_data)"
   ]
  },
  {
   "cell_type": "markdown",
   "id": "79979608-147e-400c-9680-951c40e0ebef",
   "metadata": {},
   "source": [
    "**Sorting**:\n",
    "\n",
    "To sort data by a column:"
   ]
  },
  {
   "cell_type": "code",
   "execution_count": null,
   "id": "604b637b-2331-4252-be5b-8fe27dfbbf44",
   "metadata": {},
   "outputs": [],
   "source": [
    "# Sort by 'Age' column in ascending order\n",
    "sorted_data = df.sort_values(by='Age')\n",
    "\n",
    "# Sort by multiple columns\n",
    "sorted_data = df.sort_values(by=['Age', 'Name'], ascending=[True, False])\n",
    "\n",
    "print(sorted_data)"
   ]
  },
  {
   "cell_type": "markdown",
   "id": "4fc40a2a-ea40-449e-a2da-2188303eedb0",
   "metadata": {},
   "source": [
    "**Summary**:\n",
    "\n",
    "Pandas provides easy ways to perform summary statistics on columns:"
   ]
  },
  {
   "cell_type": "code",
   "execution_count": null,
   "id": "9ce07877-3fb8-4871-ae95-1f3c92c777b5",
   "metadata": {},
   "outputs": [],
   "source": [
    "# Get summary statistics (mean, std, etc.)\n",
    "summary = df.describe()\n",
    "\n",
    "# Get the mean of a column\n",
    "mean_age = df['Age'].mean()\n",
    "\n",
    "print(summary)\n",
    "print(f'\\nmean age: {mean_age}')"
   ]
  },
  {
   "cell_type": "markdown",
   "id": "e878758b-7b0a-4d08-bb19-424964bda413",
   "metadata": {},
   "source": [
    "## 7. Writing Data Back to Excel\n",
    "\n",
    "You can write a DataFrame back to an Excel file using `to_excel()`."
   ]
  },
  {
   "cell_type": "code",
   "execution_count": null,
   "id": "2c4d5329-161e-4373-9717-3ec9c0ec687b",
   "metadata": {},
   "outputs": [],
   "source": [
    "# Write DataFrame to an Excel file\n",
    "\n",
    "sorted_xls_fp = os.path.join(parent_directory, 'test_files', 'sorted_data.xlsx')\n",
    "sorted_data.to_excel(sorted_xls_fp, index=False)  # index=False to avoid writing the index as a column"
   ]
  },
  {
   "cell_type": "markdown",
   "id": "3c0023fa-6f76-459d-9e99-fbbd96fc3c46",
   "metadata": {},
   "source": [
    "## 8. Converting a Pandas DataFrame to a NumPy Array and Back\n",
    "Once you've loaded your Excel data into a Pandas DataFrame, there might be cases where you want to convert it to a **NumPy array** for certain operations or perform advanced numerical manipulations. After you're done with NumPy operations, you may want to convert it back to a DataFrame for further analysis or to save it as a new file."
   ]
  },
  {
   "cell_type": "markdown",
   "id": "11b6f6e9-bfa3-4fe2-8e1e-958888453ff5",
   "metadata": {},
   "source": [
    "**Converting a DataFrame to a NumPy Array**<br>\n",
    "You can use the `.to_numpy()` method to convert a DataFrame to a NumPy array."
   ]
  },
  {
   "cell_type": "code",
   "execution_count": null,
   "id": "5656b149-b1f9-4ac2-826d-a3c06b38224a",
   "metadata": {},
   "outputs": [],
   "source": [
    "# Convert the DataFrame to a NumPy array\n",
    "numpy_array = df.to_numpy()\n",
    "\n",
    "print(numpy_array)"
   ]
  },
  {
   "cell_type": "markdown",
   "id": "91adc887-266e-44a4-b021-f78f5093084d",
   "metadata": {},
   "source": [
    "This array is a 2D structure, but note that categorical columns (like Name and Breed) will be represented as strings in the NumPy array. Normally, NumPy has a **homogeneous type**, but in this case will have a general **object** typing. Therefore, be careful if you want to use NumPy functions on numbers and want a homogeneous array."
   ]
  },
  {
   "cell_type": "markdown",
   "id": "513919b3-c61e-4d91-b280-f94d69b1c369",
   "metadata": {},
   "source": [
    "**Converting a NumPy Array to a DataFrame**:"
   ]
  },
  {
   "cell_type": "code",
   "execution_count": null,
   "id": "baacf5ce-58ce-4496-97b1-21a9e3ef7cec",
   "metadata": {},
   "outputs": [],
   "source": [
    "# Convert the NumPy array back into a DataFrame\n",
    "df_from_numpy = pd.DataFrame(numpy_array, columns=['Name', 'Breed', 'Age', 'Weight (kg)', 'Owner'])\n",
    "\n",
    "print(df_from_numpy)"
   ]
  },
  {
   "cell_type": "markdown",
   "id": "0415e178-48d1-40d1-936b-3bc0d9dedc85",
   "metadata": {},
   "source": [
    "**Selecting only numeric data**\n",
    "The key here is using the function `.select_dtypes(include=['number'])` on our Dataframe"
   ]
  },
  {
   "cell_type": "code",
   "execution_count": null,
   "id": "7a9953b7-aa08-4034-aaf8-59137c959fe7",
   "metadata": {},
   "outputs": [],
   "source": [
    "numeric_columns = df.select_dtypes(include=['number'])\n",
    "\n",
    "numeric_array = numeric_columns.to_numpy()\n",
    "\n",
    "print(numeric_columns)\n",
    "print(numeric_array)"
   ]
  },
  {
   "cell_type": "code",
   "execution_count": null,
   "id": "0868527c-ec58-44dc-8e25-a3c33026a565",
   "metadata": {},
   "outputs": [],
   "source": []
  },
  {
   "cell_type": "code",
   "execution_count": null,
   "id": "14eea45e-b0d2-4fd6-9d41-1bc717a51a22",
   "metadata": {},
   "outputs": [],
   "source": []
  },
  {
   "cell_type": "code",
   "execution_count": null,
   "id": "c1946ff2-9fa0-43e0-b906-66517e2fa4de",
   "metadata": {},
   "outputs": [],
   "source": []
  }
 ],
 "metadata": {
  "kernelspec": {
   "display_name": "Python 3 (ipykernel)",
   "language": "python",
   "name": "python3"
  },
  "language_info": {
   "codemirror_mode": {
    "name": "ipython",
    "version": 3
   },
   "file_extension": ".py",
   "mimetype": "text/x-python",
   "name": "python",
   "nbconvert_exporter": "python",
   "pygments_lexer": "ipython3",
   "version": "3.12.11"
  }
 },
 "nbformat": 4,
 "nbformat_minor": 5
}
