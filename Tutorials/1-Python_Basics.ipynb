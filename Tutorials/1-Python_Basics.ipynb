{
 "cells": [
  {
   "cell_type": "markdown",
   "id": "69ba9426-e4cb-47bc-9095-87ca32cbe3ac",
   "metadata": {},
   "source": [
    "# Introduction to Python for Medical Imaging"
   ]
  },
  {
   "cell_type": "markdown",
   "id": "d8e2fe2c-110b-4a41-a3ed-2661c3fa72b3",
   "metadata": {},
   "source": [
    "## 1.1 Brief introduction to Jupyter Notebooks\n",
    "In Jupyter notebook, we have an installed version of Python on our local machine...\n",
    "Can create new cells for writing information known as \"markdown\", or \"code\" for step-by-step programming"
   ]
  },
  {
   "cell_type": "code",
   "execution_count": null,
   "id": "3537587a-b29b-4dba-ba33-0ada947a2978",
   "metadata": {},
   "outputs": [],
   "source": [
    "pip install pydicom numpy"
   ]
  },
  {
   "cell_type": "code",
   "execution_count": null,
   "id": "8a65205c-6872-4e15-949f-0d3610004d58",
   "metadata": {},
   "outputs": [],
   "source": [
    "import pydicom as pyd\n",
    "import numpy as np"
   ]
  },
  {
   "cell_type": "markdown",
   "id": "62e9f2b2-029d-4744-b055-e7c742971329",
   "metadata": {},
   "source": [
    "### Keywords\n",
    "When naming variables or functions, there are many options. However, there are specific **keywords** that are recognized with a programmatic meaning and will (depending on your IDE or programming space) be differentiated by a different color <br>\n",
    "Common keywords include: **for, while, if, elif, else, in, is, None, def, import, ...**<br>\n",
    "Types are similar to keywords such that they are recognized with different meaning: **int, float, str, list, typle, ...**<br>\n",
    "Compared to other programming languages, reading Python is close to reading English <br>"
   ]
  },
  {
   "cell_type": "code",
   "execution_count": null,
   "id": "d3977f89-71f8-4093-a5a3-08186b13e731",
   "metadata": {},
   "outputs": [],
   "source": [
    "name = 'Ronald'\n",
    "coding_experience = None\n",
    "if coding_experience is None:\n",
    "    print('Ron is new to programming')"
   ]
  },
  {
   "cell_type": "markdown",
   "id": "3cb3a828-18f8-4993-8742-521c668d545c",
   "metadata": {},
   "source": [
    "### Commenting\n",
    "We can comment in our out a section by using ctrl + /"
   ]
  },
  {
   "cell_type": "code",
   "execution_count": null,
   "id": "d1b1206a-64b1-4faf-b4a2-54a363797afe",
   "metadata": {},
   "outputs": [],
   "source": [
    "# We can either comment using a hashtag\n",
    "\"\"\"\n",
    "or multiline comment \n",
    "by using triple quotes on either side\n",
    "\"\"\"\n",
    "print('We can comment out the rest of a line')  # COMMENT ON SAME LINE"
   ]
  },
  {
   "cell_type": "markdown",
   "id": "db6b67c5-1863-41f7-8554-c415c283e898",
   "metadata": {},
   "source": [
    "### Built-in Functions\n",
    "These functions are built-in from Python and going to be everywhere. We don't need to understand them in depth yet, moreso that whenever you see these being called, you'll know what they are!"
   ]
  },
  {
   "cell_type": "code",
   "execution_count": null,
   "id": "a6453f88-b5d6-4906-a825-d1d1c8e99455",
   "metadata": {},
   "outputs": [],
   "source": [
    "print('We love print')"
   ]
  },
  {
   "cell_type": "code",
   "execution_count": null,
   "id": "525bf4df-47e3-46ce-8784-c51279906b8e",
   "metadata": {},
   "outputs": [],
   "source": [
    "str1 = 'our string'\n",
    "str_size = len(str1)\n",
    "print('len returns the length or size of the object. For a str, its the # of character', str_size)"
   ]
  },
  {
   "cell_type": "code",
   "execution_count": null,
   "id": "010eb041-4746-4dcd-8f16-b39790db56fd",
   "metadata": {},
   "outputs": [],
   "source": [
    "ls = range(str_size) \n",
    "print('range creates a list of numbers based on inputs. In this case ls =', ls[0], ls[1], ls[2], '...', ls[-2], ls[-1])"
   ]
  },
  {
   "cell_type": "code",
   "execution_count": null,
   "id": "bdb1d4db-233e-4f87-a114-7cbec74f57a5",
   "metadata": {},
   "outputs": [],
   "source": [
    "maximum = max(30, -12, 28)          # We can give it n-arguments of numbers\n",
    "ls = [30, -12, 28]\n",
    "minimum = min(ls)                   # We can also give it a list of numbers\n",
    "print(maximum)\n",
    "print(minimum)"
   ]
  },
  {
   "cell_type": "markdown",
   "id": "b9659be0-5ff5-49a9-b0c0-544eb6d9ba99",
   "metadata": {},
   "source": [
    "### Strings"
   ]
  },
  {
   "cell_type": "code",
   "execution_count": null,
   "id": "9732464d-48e9-45f0-a213-0aa9bb0cab03",
   "metadata": {},
   "outputs": [],
   "source": [
    "str1 = 'abc'         # Equivalently, we can use \"\" in Python. There is no 'character' data type  \n",
    "str2 = ''            # empty string\n",
    "print(str1)\n",
    "print(str2)          # will print an empty string\n",
    "print(len(str1))     # built in function len() returns the size of an object\n",
    "     "
   ]
  },
  {
   "cell_type": "code",
   "execution_count": null,
   "id": "93d7f328-f29e-4489-9607-d894c9f22ed8",
   "metadata": {},
   "outputs": [],
   "source": [
    "str3 = str(67)       # Type casting: from integer to string\n",
    "str4 = str3 + '41'   # string addition concatenates them one after the other\n",
    "print(str4)\n",
    "print(str1[0])    "
   ]
  },
  {
   "cell_type": "code",
   "execution_count": null,
   "id": "3ec2353e-b8f8-4c6f-b7f4-c478addce399",
   "metadata": {},
   "outputs": [],
   "source": [
    "# Special characters \\n, \\t, etc. \\n is for 'newline', \\t is for 'tab'\n",
    "print('1st line\\n\\t2nd line with tabbing')"
   ]
  },
  {
   "cell_type": "code",
   "execution_count": null,
   "id": "a26c6af5-3268-46ca-a67e-983e6e8855ee",
   "metadata": {
    "editable": true,
    "slideshow": {
     "slide_type": ""
    },
    "tags": []
   },
   "outputs": [],
   "source": [
    "# an 'r' before the string quotation marks reads with no special characters\n",
    "main_dir = r'C:\\Users\\ddesarn\\Downloads\\Danny'   # The \\U will throw an exception if we don't have r before the string!\n",
    "print(main_dir)"
   ]
  },
  {
   "cell_type": "markdown",
   "id": "0e9cf180-2554-4ed2-8d7a-e71cd36278a8",
   "metadata": {},
   "source": [
    "### Integers and Floats"
   ]
  },
  {
   "cell_type": "code",
   "execution_count": null,
   "id": "a0227770-f1e6-49e6-88a4-8f515978406f",
   "metadata": {},
   "outputs": [],
   "source": [
    "int1 = 3                # initialize an integer. Notice it initiliazed the type automatically\n",
    "int2 = float('3')       # Type cast this string into a float number\n",
    "print(type(int1))\n",
    "print(int1+int2)        # an integer plus a float will return a float\n",
    "print(type(int1+int2))"
   ]
  },
  {
   "cell_type": "markdown",
   "id": "3d98b3df-1e40-4d84-b844-9f01a5611de2",
   "metadata": {},
   "source": [
    "### Booleans and Conditionals"
   ]
  },
  {
   "cell_type": "code",
   "execution_count": null,
   "id": "adec61d8-613d-4864-a87b-67a1892f8254",
   "metadata": {},
   "outputs": [],
   "source": [
    "str1 = 'Run'\n",
    "str2 = 'run'\n",
    "if str1 == str2:  # '==' is a conditional. Conditionals return either True or False, which are booleans\n",
    "    print('true!')\n",
    "else:\n",
    "    print(False)"
   ]
  },
  {
   "cell_type": "code",
   "execution_count": null,
   "id": "42da3078-b3d2-41bc-92e2-d026ca477004",
   "metadata": {},
   "outputs": [],
   "source": [
    "bool1 = True\n",
    "print(type(bool1))"
   ]
  },
  {
   "cell_type": "markdown",
   "id": "f101016c-6b90-444c-a480-e3ad54aa9eee",
   "metadata": {},
   "source": [
    "#### isinstance():\n",
    "`isinstance()` is a common function to see if a variable has a type we are looking for. If the object has the type provided as input, then the function returns `True` and `False` otherwise. **Note** that this applies for everything that isn't a `None` type. See below how to check for `None`"
   ]
  },
  {
   "cell_type": "code",
   "execution_count": null,
   "id": "64ec3330-7d89-4411-8fd4-12eddaff5041",
   "metadata": {},
   "outputs": [],
   "source": [
    "ls = [1, 2, 3]\n",
    "is_ls = isinstance(ls, list)   # note we put the type keyword as the second argumen\n",
    "print(is_ls)"
   ]
  },
  {
   "cell_type": "code",
   "execution_count": null,
   "id": "ed9e73a5-c21d-484a-b265-c0f2eb562044",
   "metadata": {},
   "outputs": [],
   "source": [
    "ele = None\n",
    "if ele is None:                # this is how you check for None\n",
    "    print('The trivial solution is the best solution')"
   ]
  },
  {
   "cell_type": "markdown",
   "id": "ee77ddf5-0ae1-48ef-a2b9-3b4dba0c9380",
   "metadata": {},
   "source": [
    "In practice, if we need to check the types of variables in a function, we can set a default value of `None` and then lead with that for our `if` `elif` (short for \"else if\") and `else` statements"
   ]
  },
  {
   "cell_type": "code",
   "execution_count": null,
   "id": "5aa4bc18-b815-468f-a74c-e2ccd16a883c",
   "metadata": {},
   "outputs": [],
   "source": [
    "def check_types(ls):\n",
    "    for ele in ls:\n",
    "        if ele is None:\n",
    "            print('this is None')\n",
    "        elif isinstance(ele, tuple):\n",
    "            print('this is in elif')\n",
    "        else:\n",
    "            print('this is in else')\n",
    "\n",
    "ls = ['1', 2, (3, ), None]\n",
    "check_types(ls)"
   ]
  },
  {
   "cell_type": "markdown",
   "id": "712c8e51-6b0f-494a-9d7c-356deb16d27e",
   "metadata": {},
   "source": [
    "### Lists"
   ]
  },
  {
   "cell_type": "code",
   "execution_count": null,
   "id": "7157a47f-e35d-422f-8797-2c10978d597e",
   "metadata": {},
   "outputs": [],
   "source": [
    "list1 = [23, '67', 'bob']      # a list can group objects of the same or different types and sizes together\n",
    "print(list1)"
   ]
  },
  {
   "cell_type": "markdown",
   "id": "d7d5312f-2107-49fc-898a-a978503e4688",
   "metadata": {},
   "source": [
    "**Indexing** is an important tool we use to access information from an object, like a list. Here, we have list1 which has 3 items, and so if I want to access the nth item, I would use the index (n-1) since indexing starts from 0 in Python. The 0th element of `list1[0]` is `23`, the 1st element `list[1]` is `'67'` and 2nd element `list[2]` is `'bob'`\n",
    "\n",
    "To clarify brackets usage:<br>\n",
    "`list1[]`   we are indexing through list1<br>\n",
    "`list1()`   we are expecting list1 to be a function call<br>"
   ]
  },
  {
   "cell_type": "code",
   "execution_count": null,
   "id": "d03d6da1-a5db-4362-8ef8-0bfe65a40f32",
   "metadata": {},
   "outputs": [],
   "source": [
    "list1[0] = list1[0] + 3        # edit the 0th element of our list and save it to the 0th position\n",
    "print(list1)"
   ]
  },
  {
   "cell_type": "markdown",
   "id": "8ffa5d06-f058-4775-9225-b163d159162d",
   "metadata": {},
   "source": [
    "**This is important: if a list is made of objects that we have saved somewhere, the list POINTS to that object. This means that if the object is changed, the list will be changed too!**"
   ]
  },
  {
   "cell_type": "code",
   "execution_count": null,
   "id": "bc055807-49c9-4b29-988e-02089ce9973b",
   "metadata": {},
   "outputs": [],
   "source": [
    "abc = [1, 2, 3]                 # list abc points to the number 1 saved at some location in memory\n",
    "d = str('67676')\n",
    "list1 = [abc, d]\n",
    "print('list1 before:', list1)\n",
    "\n",
    "abc[0] = 5\n",
    "print('list1 after: ', list1)"
   ]
  },
  {
   "cell_type": "code",
   "execution_count": null,
   "id": "50199be9-8090-439b-b277-466a4afc94da",
   "metadata": {},
   "outputs": [],
   "source": [
    "num = 5.0\n",
    "list2 = [num, d]\n",
    "print(list2)\n",
    "\n",
    "num = num + 1                  # tricky: we are not updating num, we are doing a calculation and replacing the var num with the result\n",
    "print(list2)"
   ]
  },
  {
   "cell_type": "markdown",
   "id": "5f05830f-c271-4e19-8be6-16e771798095",
   "metadata": {},
   "source": [
    "#### Iteration of a list:\n",
    "Here, we will set up a **for loop** to look at the different elements of the list. There are different ways to do this:\n",
    "1. We can loop through the elements directly by using an indexing variable name, for example `ele` (for element), the keyword `in` and our list\n",
    "2. We can loop using an indexing variable of numbers that relate to indices in the list\n",
    "3. We can loop using `enumerate`, to get both the indice and the element of our list"
   ]
  },
  {
   "cell_type": "code",
   "execution_count": null,
   "id": "ad0e4b27-a7fd-4661-888a-dbde08bf5566",
   "metadata": {},
   "outputs": [],
   "source": [
    "# 1.\n",
    "for ele in list2:\n",
    "    print(f'ele = {ele}')"
   ]
  },
  {
   "cell_type": "code",
   "execution_count": null,
   "id": "172da156-3b91-46f7-b047-fae6efaa0e3e",
   "metadata": {},
   "outputs": [],
   "source": [
    "# 2.\n",
    "for ii in range(len(list2)):\n",
    "    print(f'ii = {ii}, and list2[ii] = {list2[ii]}')"
   ]
  },
  {
   "cell_type": "code",
   "execution_count": null,
   "id": "1b22e710-dff6-4d76-841d-b81e288ac807",
   "metadata": {},
   "outputs": [],
   "source": [
    "# 3.\n",
    "for ii, ele in enumerate(list2):\n",
    "    print(f'ii = {ii}, and ele = {ele}')"
   ]
  },
  {
   "cell_type": "markdown",
   "id": "f13bae92-ce83-4669-b159-dba157fa2f1d",
   "metadata": {},
   "source": [
    "### Tuples\n",
    "Tuples behave almost exactly like lists, but the difference is that **lists are mutable** and **tuples are immutable**. That means that once we make a tuple, we cannot change it. Whereas a list, we can. Whereas for lists we use `[]`, for tuples we use `()`. "
   ]
  },
  {
   "cell_type": "code",
   "execution_count": null,
   "id": "ed151adf-ad02-4d6c-9a29-e0fa24059115",
   "metadata": {},
   "outputs": [],
   "source": [
    "tup = (1, 2, 'yes')\n",
    "for ele in tup:\n",
    "    print(ele)"
   ]
  },
  {
   "cell_type": "markdown",
   "id": "17943b58-22e0-4826-a5aa-b25566ffa5d9",
   "metadata": {},
   "source": [
    "**Note** you can put any number in brackets and it won't form a tuple. By having numbers separated by a comma allows for a tuple. Meaning, if we want a tuple with one element we can use `(item, )`"
   ]
  },
  {
   "cell_type": "code",
   "execution_count": null,
   "id": "706ac6ec-eea0-42da-8fce-036bda57ad7d",
   "metadata": {},
   "outputs": [],
   "source": [
    "num = (100 * 3 / 7) \n",
    "tup = (num, )\n",
    "print(f'num is {num}, and has type {type(num)}')\n",
    "print(f'tup is {tup}, and has type {type(tup)}')"
   ]
  },
  {
   "cell_type": "markdown",
   "id": "b807b670-82df-4652-a888-4d2de8f1b2c5",
   "metadata": {},
   "source": [
    "### 2D List"
   ]
  },
  {
   "cell_type": "markdown",
   "id": "06832554-792a-40b5-95fc-35f4556bca7c",
   "metadata": {},
   "source": [
    "Lists inside of other lists create *deeper* lists. Note, `list` is a recognized type, and so for naming a generic list `ls` is a better convention"
   ]
  },
  {
   "cell_type": "code",
   "execution_count": null,
   "id": "d5c5d362-697e-4b48-b4bf-827a1d7618c5",
   "metadata": {},
   "outputs": [],
   "source": [
    "list3 = [[1, 2], [3, 4]]         # a list with 2 rows, 2 columns\n",
    "\n",
    "print(f'list3:                                      {list3}')\n",
    "print(f'the 0th element of list3:                   {list3[0]}')\n",
    "print(f'the 1st row, and 0th col element of list3:  {list3[1][0]}')\n",
    "print(list4)"
   ]
  },
  {
   "cell_type": "code",
   "execution_count": null,
   "id": "674fb29c-3497-4359-ae29-0292622f2a4b",
   "metadata": {},
   "outputs": [],
   "source": [
    "list4 = [[5, 6],                 # list4 has the same shape as list3, but easier to understand!\n",
    "         [7, 8]]\n",
    "list_add = list3 + list4\n",
    "print(f'adding list concatenates the lists rather than adding the elements!\\n{list_add}')"
   ]
  },
  {
   "cell_type": "code",
   "execution_count": null,
   "id": "c0a1d49a-1dc2-4f67-9c24-19ce685693f1",
   "metadata": {},
   "outputs": [],
   "source": [
    "list5 = [[1, 2, 3],              # a list with 2 rows, 3 columns\n",
    "         [4, 5, 6]]\n",
    "print(f'length of list5:             len(list5) = {len(list5)}')\n",
    "print(f'length of list5, 0th row:    len(list5[0]) = {len(list5[0])}')"
   ]
  },
  {
   "cell_type": "markdown",
   "id": "d890578c-4ff8-4052-9f65-615917379b17",
   "metadata": {},
   "source": [
    "#### Iteration through a 2D list:\n",
    "Here we are going to use a **nested for loop**. This means, inside one `for` loop, we have another `for` loop. To do this, we will have two sets of indices to keep track of: `ii` for the **ith** element of the rows, and `jj` for the **jth** element of the columns.<br>\n",
    "\n",
    "In this example, we want to iterate and adjust each element by one and return a 1D list:"
   ]
  },
  {
   "cell_type": "code",
   "execution_count": null,
   "id": "0029c5e4-590f-47dc-9aa1-6bac01e0fa7f",
   "metadata": {},
   "outputs": [],
   "source": [
    "list6 = []                              # initiate an empty list to fill with new values\n",
    "for ii in range(len(list5)):\n",
    "    for jj in range(len(list5[ii])):\n",
    "        ele = list5[ii][jj] + 1\n",
    "        list6.append(ele)               # .append() is a function for the list class \n",
    "    \n",
    "print(list6)"
   ]
  },
  {
   "cell_type": "markdown",
   "id": "a4c5c6e4-3551-4da5-b6e0-977553e976e5",
   "metadata": {},
   "source": [
    "### Printing"
   ]
  },
  {
   "cell_type": "code",
   "execution_count": null,
   "id": "0bd1fffc-b090-40a3-8631-6f53acb5c6ba",
   "metadata": {},
   "outputs": [],
   "source": [
    "print('we can put a string in here')\n",
    "print('we can also print other types', 25)  # we can use a comma to separate print arguments"
   ]
  },
  {
   "cell_type": "markdown",
   "id": "9dff2db6-4faa-46c8-8f4e-a3d9663cc7f5",
   "metadata": {},
   "source": [
    "#### F-strings (introduced in Python ver 3.6):\n",
    "Formatted string literals or F-strings allow for easier printing. Use `{}` around your variable and an `f` before your string"
   ]
  },
  {
   "cell_type": "code",
   "execution_count": null,
   "id": "506fbbf6-2422-482c-aece-b23f7f0c54b7",
   "metadata": {},
   "outputs": [],
   "source": [
    "name = 'Junior'\n",
    "age = 20\n",
    "print(f'{name} is a cute name for a {age} year old dog')"
   ]
  },
  {
   "cell_type": "markdown",
   "id": "077f8181-c1b0-463b-9775-c26f7c3ec9e8",
   "metadata": {},
   "source": [
    "#### Old-Style String Formatting (printf-style):\n",
    "An older style that has placeholders of certain types embedded in our string. \n",
    "- First, we embed the placeholders in our string:`%s` would be for a string, `%i` for integer, `%.3f` for a fraction with 3 decimal places, etc.\n",
    "- Second, outside the string place a `%` followed by our input variable or a tuple of the variables\n",
    "- If we have one variable to input, we don't need the brackects"
   ]
  },
  {
   "cell_type": "code",
   "execution_count": null,
   "id": "693f3e6a-0458-4653-aafb-9c6f965de41c",
   "metadata": {},
   "outputs": [],
   "source": [
    "print('%s is a cute name for a %.2f year old dog' % (name, age))"
   ]
  },
  {
   "cell_type": "markdown",
   "id": "b1a37edb-637a-4661-9f44-d706c41c099b",
   "metadata": {},
   "source": [
    "### Functions\n",
    "For functions we use the keyword 'def' followed by a space, our function name, parenthesis, and inside those parenthesis are **input variables** or **parameters**. `test_fcn()` for example doesn't have any required input parameters and returns nothing"
   ]
  },
  {
   "cell_type": "code",
   "execution_count": null,
   "id": "5c35f5b4-bf4e-4de5-9ad9-ffdc7056b260",
   "metadata": {},
   "outputs": [],
   "source": [
    "def test_fcn():                        # we define the function starting here\n",
    "    print(\"What a time to be alive\")\n",
    "    return\n",
    "\n",
    "test_fcn()                             # we now call the function"
   ]
  },
  {
   "cell_type": "markdown",
   "id": "77e1ed70-f12c-43d7-ac6a-f549547eccc7",
   "metadata": {},
   "source": [
    "`test_fcn2()` has three different inputs, but notice that we have given a **default** value to the parameter `is_dog`. Other details to note:\n",
    "- We don't need to have a `return`\n",
    "- We can have a **docstring** by having a `\"\"\" \"\"\"` comment immediately after the `def fcn():` line\n",
    "- When you mouse over any function in an IDE (for example, PyCharm), it will provide info of the function as described in the docstring\n",
    "- We can use the `@param var_name:` in a docstring to highlight info for each input variable"
   ]
  },
  {
   "cell_type": "code",
   "execution_count": null,
   "id": "e5f4c334-67d7-4b33-a0aa-88a5c7b7d995",
   "metadata": {},
   "outputs": [],
   "source": [
    "def test_fcn2(name, age, is_dog=True):\n",
    "    \"\"\"\n",
    "    @param name: name of the individual\n",
    "    @param age: age of the individual in years\n",
    "    @param is_dog: default value is True, and describes whether the individual input is a dog\n",
    "    \"\"\"\n",
    "    if is_dog:\n",
    "        print(f'{name} is {7*age} in dog years')\n",
    "    else:\n",
    "        print('I only care about dogs.')\n",
    "        \n",
    "name = 'Luna'\n",
    "age = 3\n",
    "test_fcn2(name, age)"
   ]
  },
  {
   "cell_type": "markdown",
   "id": "7efa85ab-845f-4fcd-8720-3dceae53e497",
   "metadata": {},
   "source": [
    "`test_fcn3()` demonstrates that we can ask for a specific type of input, but we can give it a different input type without giving us an error upfront!"
   ]
  },
  {
   "cell_type": "code",
   "execution_count": null,
   "id": "2fcba4af-7338-49c6-b9ad-4548f4f86e75",
   "metadata": {},
   "outputs": [],
   "source": [
    "def test_fcn3(name: str, age: int):  # ask for a specific kind of input\n",
    "    print(name, age)\n",
    "    \n",
    "age = 3.0                            # update age to a float number\n",
    "test_fcn3(name, age)"
   ]
  },
  {
   "cell_type": "markdown",
   "id": "062d4372-b53b-4775-af19-d8e7bd3dc628",
   "metadata": {},
   "source": [
    "### Memory\n",
    "be carefuly with function calls~!"
   ]
  },
  {
   "cell_type": "code",
   "execution_count": null,
   "id": "632a1bd3-449e-4c7d-8fc6-1016396c6fe8",
   "metadata": {},
   "outputs": [],
   "source": [
    "# Example 1: How does an item in a list get stored?\n",
    "int1 = 67\n",
    "print(id(int1))\n",
    "list2 = [int1, int1+int1, 'straw']\n",
    "print(id(list2[0]))\n",
    "print(list2)\n",
    "int1 = 100.0\n",
    "print(id(int1))\n",
    "print(list2)\n",
    "print(id(list2))"
   ]
  },
  {
   "cell_type": "code",
   "execution_count": null,
   "id": "c552159d-50e5-4fe2-8e8f-173aa05b5c4e",
   "metadata": {},
   "outputs": [],
   "source": [
    "# Example 2: For loop and local variables\n",
    "xx = 0\n",
    "for ii in range(10):\n",
    "    xx += 1\n",
    "    yy = ii                            \n",
    "print(xx)\n",
    "# yy won't be saved outside of the loop in other languages, but in Python, it persists\n",
    "print(yy)"
   ]
  },
  {
   "cell_type": "code",
   "execution_count": null,
   "id": "7542ef9a-8816-4210-8679-bff593d8aa3d",
   "metadata": {},
   "outputs": [],
   "source": [
    "# Example 3: Functions and scope\n",
    "def test_ls(xx: int, ls: list):\n",
    "    ls.append(xx)\n",
    "    return ls\n",
    "\n",
    "ls = []\n",
    "xx = 10\n",
    "ls2 = test_ls(xx, ls)\n",
    "print(ls)\n",
    "print(ls2)"
   ]
  },
  {
   "cell_type": "code",
   "execution_count": null,
   "id": "8b3c9bb3-4aba-42cf-9d4e-ea8a581890b8",
   "metadata": {},
   "outputs": [],
   "source": [
    "def test_arr(xx: int, arr: np.ndarray):\n",
    "    arr[0] = xx\n",
    "    return arr\n",
    "\n",
    "arr = np.zeros(1, dtype=int)\n",
    "xx = 10\n",
    "arr2 = test_arr(xx, arr)\n",
    "print(arr)\n",
    "print(arr2)"
   ]
  },
  {
   "cell_type": "code",
   "execution_count": null,
   "id": "0ea3130c-9b0a-41a3-9b88-8efa5360d618",
   "metadata": {},
   "outputs": [],
   "source": [
    "print(arr.dtype)\n",
    "print(arr2.dtype)"
   ]
  },
  {
   "cell_type": "markdown",
   "id": "75ac6809-1ace-4e2c-a10b-b720573a386e",
   "metadata": {},
   "source": [
    "### File searching\n",
    "This may be the most important non-scientific topic we will go over. Understanding how to precisely select what we want in a simple way will pay dividends when we have many studies with different types of scans, file types, etc. <br>\n",
    "Our savior is going to be a package called \"glob\" that is a Linux-style filesearching library. In the string we provide to `glob.glob`, each section of the string we want to fill in, we use a `*`.<br>\n",
    "In the example below, imagine the directory I'm interested in has 100 DICOM images, each with a filename `im_0.dcm`, `im_1.dcm`, ..., `im_99.dcm` and for example, it is in every folder in `\\Downloads`. Then the code below would return those 100 images for each folder all into one list."
   ]
  },
  {
   "cell_type": "code",
   "execution_count": null,
   "id": "79649699-2322-4aca-b5c6-7c87fd2f5808",
   "metadata": {},
   "outputs": [],
   "source": [
    "import glob\n",
    "\n",
    "fps = glob.glob(r'C:\\Users\\ddesarn\\Downloads\\**\\im_*.dcm')     # filepaths = fps\n",
    "print(fps)                                                  # can also use glob for a recurvsive file search using argument: recursive=True\n"
   ]
  },
  {
   "cell_type": "markdown",
   "id": "5d8b9115-6809-4706-929a-cc100bc1622c",
   "metadata": {},
   "source": [
    "### NumPy\n",
    "One of the main differences about writing good Python code involves learning to make use of NumPy instead of using for loops. This is because in Python, every variable is an object. Iterating using objects is slow in terms of loading the information and performing actions. This is in contrast to for example a for loop using integers in C++, where we are only loading in that 8bit number for example. NumPy takes what we want to do and does it using C++ variables and returns it. <br> \n",
    "Why would we do it this way? It is natural to write/read, turns loops into one liners, and is much faster than nested for loops (in Python)"
   ]
  },
  {
   "cell_type": "code",
   "execution_count": null,
   "id": "05296de0-5584-455f-9ec3-3fd432159338",
   "metadata": {},
   "outputs": [],
   "source": [
    "import numpy as np"
   ]
  },
  {
   "cell_type": "markdown",
   "id": "1241a0f7-62df-42ff-910a-f9e0ad555500",
   "metadata": {},
   "source": [
    "#### Initialization\n",
    "Many ways to initialize, here are the most common:"
   ]
  },
  {
   "cell_type": "code",
   "execution_count": null,
   "id": "124ee84d-d467-4924-9691-e16100b4cc85",
   "metadata": {},
   "outputs": [],
   "source": [
    "arr_from_ls = np.array([0, 3, 4, 6])           # We can type cast a list of the same types (we can also do lists of lists of same types!)\n",
    "zeros = np.zeros((3, 5))                       # Here we are inputing the shape we want\n",
    "ones = -256 * np.ones((2, 3, 3))\n",
    "zeros_like = np.zeros_like(zeros)              # Note that it chooses the same type if you use np.zeros_like\n",
    "\n",
    "print(arr_from_ls)\n",
    "print(zeros)\n",
    "print(ones)"
   ]
  },
  {
   "cell_type": "markdown",
   "id": "c63ad024-e7d7-4352-921d-c4c8890d3480",
   "metadata": {},
   "source": [
    "We can access different properties of a NumPy array, like .shape, ndim (number of dimensions)"
   ]
  },
  {
   "cell_type": "code",
   "execution_count": null,
   "id": "61f9b9da-06a0-4fd7-bb77-0a7ecc32e5e4",
   "metadata": {},
   "outputs": [],
   "source": [
    "print(f\"the array 'ones' has {ones.ndim} dimensions and a shape {ones.shape}\")"
   ]
  },
  {
   "cell_type": "code",
   "execution_count": null,
   "id": "7ab95f0c-5dac-48ed-8466-cf4c5a7f4b86",
   "metadata": {},
   "outputs": [],
   "source": [
    "bools = np.ones(10, dtype=bool)                # force the data type with dtype=type_keyword\n",
    "print(bools)"
   ]
  },
  {
   "cell_type": "code",
   "execution_count": null,
   "id": "577040a3-ac22-473a-ac0f-eab582b2e99f",
   "metadata": {},
   "outputs": [],
   "source": [
    "# arr = np.arange(10)                          # also works!\n",
    "arr = np.arange(0, 10, 1)                      # arange(start, stop step): start at start, take n-number steps until start + n*step >= stop\n",
    "print(arr)                                     # Note that stop is not included\n",
    "\n",
    "arr1 = np.linspace(0, 10, 3, endpoint=True)    # linspace(start, stop, num): num is the number of equally spaced divisions.\n",
    "print(arr1)"
   ]
  },
  {
   "cell_type": "code",
   "execution_count": null,
   "id": "6cf02e24-93af-4e81-a003-0ad4ea6e80d8",
   "metadata": {},
   "outputs": [],
   "source": [
    "# arr = arr.reshape((shape))                   # equivalent statement\n",
    "arr = np.reshape(arr, (2, 5))                  # change the shape of our data np.reshape(array, output_shape)\n",
    "print(f'as long as the new shape is divisible by the number of elements, then we can reshape it! We want from shape (10) to {arr.shape}')"
   ]
  },
  {
   "cell_type": "code",
   "execution_count": null,
   "id": "2962de04-56fa-4516-9b30-718ef3b679b5",
   "metadata": {},
   "outputs": [],
   "source": [
    "arr_3d = np.arange(2*3*3).reshape((2, 3, 3))\n",
    "arr_2d = np.reshape(arr_3d, (2, -1))\n",
    "print(f'arr_3d:\\n{arr_3d}')\n",
    "print(f'arr_2d:\\n{arr_2d}')\n",
    "print(f'{arr_3d.shape} turned into {arr_2d.shape}')"
   ]
  },
  {
   "cell_type": "markdown",
   "id": "2ccaa247-e9c9-48d8-adf6-71ded529fd60",
   "metadata": {},
   "source": [
    "#### Operations and functions (addition, subtraction, etc)\n",
    "Instead of iterating through a two arrays to do element by element operations, we use NumPy functions"
   ]
  },
  {
   "cell_type": "code",
   "execution_count": null,
   "id": "3ae21eed-df66-46dd-b24a-0591e749a7a7",
   "metadata": {},
   "outputs": [],
   "source": [
    "arr1 = np.arange(10)\n",
    "arr2 = np.ones(10)"
   ]
  },
  {
   "cell_type": "code",
   "execution_count": null,
   "id": "fe8178ba-743b-41ad-ab77-87cce84ce38c",
   "metadata": {},
   "outputs": [],
   "source": []
  },
  {
   "cell_type": "markdown",
   "id": "15ce3308-d4a6-4b6b-942c-2c5050e56f16",
   "metadata": {},
   "source": [
    "#### Indexing, slicing"
   ]
  },
  {
   "cell_type": "code",
   "execution_count": null,
   "id": "f39ac46e-59ee-4d20-afb7-b01934a5ae18",
   "metadata": {},
   "outputs": [],
   "source": []
  },
  {
   "cell_type": "markdown",
   "id": "f8ab8021-b642-48e0-8836-f1ef03d55806",
   "metadata": {},
   "source": [
    "#### Broadcasting\n",
    "This is the operation of making two different shaped arrays compatible for addition/other functions."
   ]
  },
  {
   "cell_type": "code",
   "execution_count": null,
   "id": "ad7111a1-cd5e-4a7c-ae96-54aa29546659",
   "metadata": {},
   "outputs": [],
   "source": [
    "arr_2d = np.ones((5, 5))\n"
   ]
  },
  {
   "cell_type": "code",
   "execution_count": null,
   "id": "07f8936c-bdd7-4c62-89db-3b324367a722",
   "metadata": {},
   "outputs": [],
   "source": [
    "# tuple1[0] = 10\n",
    "# print(tuple1)\n",
    "# arr = np.array(list1)  # one example of numpy array instance\n",
    "# print(type(arr))\n",
    "# if isinstance(arr, np.ndarray):  # checks if the object is the correct type\n",
    "#     print('True!')\n",
    "\n",
    "# example 2\n",
    "# listnames = [['Danny', 26], ['Dannt', 56], ['Dannl', 15], ['Dannu', 31]]  # lists are good when we mix types\n",
    "#\n",
    "# arr2 = np.array(np.array(listnames, dtype=str)[:, 1], dtype=np.int16)  # dtype=np.int16\n",
    "# # print(arr2)\n",
    "# mean = np.mean(arr2, dtype=int)\n",
    "# print(mean)\n",
    "\n",
    "# example 3\n",
    "# arr1 = np.arange(0, 1000, 0.9)\n",
    "# print(arr1)\n",
    "# print(arr1.ndim)  # = 1\n",
    "# arr2 = np.linspace(0, 1000, 20)\n",
    "# print(arr2)\n",
    "# arr2 = np.reshape(arr2, (2, 2, 5))  # shape is the size of the dimension\n",
    "# # arr2 = arr2.reshape((, 1))  # alternative way\n",
    "# print(arr2.shape)  # 4 by 5 matrix\n",
    "# print(arr2.ndim)  # could be 2\n",
    "# list1 = [0, 1, 2, 3...]  -> [[0], [1], [2], ...\n",
    "# arr1.ndim = 1, arr1.shape\n",
    "# arr3 = [[0],\n",
    "#         [1],\n",
    "#         [3]]\n",
    "# # dcm_data[slc, row, col] =\n",
    "\n",
    "# arr4 = np.array([[[256]]])\n",
    "# print(arr4.ndim)\n",
    "# print(arr4.shape)\n",
    "# print(arr4)\n",
    "\n",
    "arr5 = 1*np.linspace(2, 100, 18).reshape((3, 2, 3))\n",
    "print(arr5)\n",
    "arr6 = 2*np.ones((3, 2)).reshape((3, 2, 1))\n",
    "arr7 = arr5 * arr6\n",
    "print(arr7)"
   ]
  }
 ],
 "metadata": {
  "kernelspec": {
   "display_name": "Python 3 (ipykernel)",
   "language": "python",
   "name": "python3"
  },
  "language_info": {
   "codemirror_mode": {
    "name": "ipython",
    "version": 3
   },
   "file_extension": ".py",
   "mimetype": "text/x-python",
   "name": "python",
   "nbconvert_exporter": "python",
   "pygments_lexer": "ipython3",
   "version": "3.12.11"
  }
 },
 "nbformat": 4,
 "nbformat_minor": 5
}
